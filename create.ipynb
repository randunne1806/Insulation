{
 "cells": [
  {
   "cell_type": "markdown",
   "metadata": {},
   "source": [
    "# AP CSP Create Performance Task"
   ]
  },
  {
   "cell_type": "markdown",
   "metadata": {},
   "source": [
    "#### Background: \n",
    "This program determines the number of inches of insulation the user should add to his or her attic in order to optimize the heating and cooling loss. The mechanism of heat loss through ceiling of a home to the attic is primarily through conduction. Conduction is when heat travels through a substance to a different temperature area in an effort to substain equillibrium. "
   ]
  },
  {
   "cell_type": "markdown",
   "metadata": {},
   "source": [
    "The optimal depth of insulation is calculated using the net savings function where the depth of insulation is the output. This application can be expanded to other states in the US or more building materials. Calculus and graphing utilities are used to determine the optimal savings. The rate of heat loss is modeled using direct and inverse variation in the net savings function. Analysis requires maximizing a rational function using either differential calculus or graphing technology. (Integration can also be brought to bear to compute the average annual temperature difference between the interior and attic.)"
   ]
  },
  {
   "cell_type": "markdown",
   "metadata": {},
   "source": [
    "### Net Savings Equation: \n",
    "#### P(d) = 24 · AHDD · A · Y · CH · ( 1/R − ( 1 / (R + d · Rnper) ) ) − A · 12d · CI\n",
    "* AHDD = Annual Heating Degree Day number(each city has one)\n",
    "* A = the square area of the attic in square feet\n",
    "* Y = the age of the home in years\n",
    "* CH = efficiency of home heating in BTU's\n",
    "* R = initial insulation value\n",
    "* Rnper = future insulation value\n",
    "* CI = cost of insulation per cubic foot"
   ]
  },
  {
   "cell_type": "markdown",
   "metadata": {},
   "source": [
    "### References\n",
    "* Research paper from College Mathematics Journal: https://www.jstor.org/stable/pdf/10.4169/college.math.j.43.2.165.pdf\n",
    "* City AHDD values: http://www.cpc.ncep.noaa.gov/products/analysis_monitoring/cdus/degree_days/wctyhddy.txt\n",
    "* Material R-values: https://www.thermaxxjackets.com/5-most-common-thermal-insulation-materials/"
   ]
  },
  {
   "cell_type": "code",
   "execution_count": 1,
   "metadata": {
    "collapsed": false
   },
   "outputs": [],
   "source": [
    "from sympy import *\n",
    "from sympy import Symbol\n",
    "#This function generates the net savings function based on following parameters\n",
    "#Equation was refrenced from College Mathematics Journal #https://www.jstor.org/stable/pdf/\n",
    "#10.4169/college.math.j.43.2.165.pdf\n",
    "#AHDD = Annual Heating Degree Day number(each city has one)\n",
    "#Area = the square area in square feet of the attic\n",
    "#Years = the age of the home in years\n",
    "#material = R-value of future insulation\n",
    "#returns net savings function\n",
    "def getEquation(AHDD, area, years, material):\n",
    "    x = Symbol('x') #used so that the equation can interpret what \"x\" is\n",
    "    #constants\n",
    "    CH = 1/80000    #CH = efficiency of home heating in BTU's\n",
    "    R = 7.1         #R = initial insulation value\n",
    "    CI = 0.4        #CI = cost of insulation per cubic foot\n",
    "    y = 24 * AHDD * area * years * CH * ( 1/R -(1 /(R+ x * material))) - area * CI * (x / 12) \n",
    "    return y"
   ]
  },
  {
   "cell_type": "code",
   "execution_count": 2,
   "metadata": {
    "collapsed": true
   },
   "outputs": [],
   "source": [
    "#Reference: http://stackoverflow.com/questions/9876290/how-do-i-compute-derivative-using-numpy\n",
    "from sympy import Symbol\n",
    "#function differentiates resulting equation from function equation()\n",
    "#returns the derivative\n",
    "def differentiate(formula):\n",
    "    x = Symbol('x')                    #used so that the equation knows what \"x\" is\n",
    "    formulaPrime = formula.diff(x)     #equation being differentiated\n",
    "    return formulaPrime"
   ]
  },
  {
   "cell_type": "code",
   "execution_count": 3,
   "metadata": {
    "collapsed": false
   },
   "outputs": [],
   "source": [
    "#References: http://docs.sympy.org/dev/modules/solvers/solvers.html\n",
    "from sympy.solvers import solve\n",
    "from sympy import Symbol\n",
    "#function finds the roots of the differentiated equation\n",
    "#AHDD = annual heating degree day number(each city has one)\n",
    "#Area = the square area in square feet of the attic\n",
    "#Years = the age of the home in years\n",
    "#material = R-value of future insulation\n",
    "#returns the solutions of the equtaion\n",
    "def findSolution(AHDD,area,years,Rvalue):\n",
    "    t = Symbol('t')#used so that the function knows that it's on the domain of \"t\" instead of \"x\"\n",
    "    eq = getEquation(AHDD,area,years,Rvalue)\n",
    "    #solve is used to find the roots of the function\n",
    "    solutions = solve(differentiate(eq))\n",
    "    return solutions"
   ]
  },
  {
   "cell_type": "code",
   "execution_count": 4,
   "metadata": {
    "collapsed": true
   },
   "outputs": [],
   "source": [
    "#Reference: http://effbot.org/tkinterbook/entry.htm\n",
    "#function retrieves the input from the usesr input text boxes and dropdown boxes and assigns to variables\n",
    "#all of the input is gathered and returned\n",
    "#returns the values from the textboxes and dropdown boxes\n",
    "def getInput():\n",
    "    area  = int(txtArea.get())                   #square area of attic is saved in variable area\n",
    "    years = int(txtYears.get())                  #age of attic is saved in variable years.\n",
    "    city  = cityDropTop.get()\n",
    "    AHDD  = int(cityChoices[city])               #the value associated to the appropriate city \n",
    "                                                 # is stored in the AHDD variable\n",
    "    material = materialDropTop.get()\n",
    "    Rvalue = float(materialChoices[material])    #the value associated to the material chosen is stored in the variable Rvalue\n",
    "    return AHDD,area,years,Rvalue"
   ]
  },
  {
   "cell_type": "code",
   "execution_count": 5,
   "metadata": {
    "collapsed": true
   },
   "outputs": [],
   "source": [
    "#function checks whether solutions are extraneous and only outputs the results that make sense\n",
    "#returns the string with the positive solution in it\n",
    "def showSolutions(AHDD,area,years,Rvalue):\n",
    "    #prettyText is defined so that we can concatenate the message\n",
    "    prettyText = \"Based on the calulations of the net savings function, \\\n",
    "    the optimal depth of insulation recommended is \"\n",
    "    #for loop is used to check if the values are positive or negative. It eliminates negative ones\n",
    "    for solution in findSolution(AHDD, area,years,Rvalue):\n",
    "        if (solution > 0):\n",
    "            prettyText += str(round(solution,2))\n",
    "    prettyText += \" inches\"\n",
    "    return prettyText"
   ]
  },
  {
   "cell_type": "code",
   "execution_count": 6,
   "metadata": {
    "collapsed": false
   },
   "outputs": [],
   "source": [
    "#Reference: https://pythonprogramming.net/how-to-embed-matplotlib-graph-tkinter-gui/\n",
    "#based on user input the net saving function is generated, differentiated, and finally graphed for \n",
    "#the optimal depth displayed\n",
    "#this function graphs the derivative of the net savings function in order to find the optimal \n",
    "#insulation thickness\n",
    "from numpy import arange\n",
    "from matplotlib.backends.backend_tkagg import FigureCanvasTkAgg, NavigationToolbar2TkAgg\n",
    "from matplotlib.backend_bases import key_press_handler\n",
    "from matplotlib.figure import Figure\n",
    "def graph(eq):\n",
    "    #parameter is for the equation graph() is going to plot \n",
    "    f = Figure(figsize=(6, 5), dpi=50)\n",
    "    a = f.add_subplot(111)\n",
    "    f.patch.set_visible(True)\n",
    "    a.title.set_text('Derivative of Net Savings function')\n",
    "    a.set_xlabel('Insulation Thickness(inches)')\n",
    "    a.set_ylabel('a')\n",
    "    #arranges the domain of the figure\n",
    "    t = arange(-20, 20, 0.5)\n",
    "    #eval() stores the y values of the equation in the form  \n",
    "    #of a list to plot to the corresponding x-values\n",
    "    s = eval(eq)\n",
    "    #the graph of the parameter eq is graphed\n",
    "    a.plot(t, s)\n",
    "    #background canvas for the graph is created\n",
    "    canvas = FigureCanvasTkAgg(f, master=root)\n",
    "    #the canvas is plotted\n",
    "    canvas.show()\n",
    "    #canvas is formatted to be in the sixth row and column 1\n",
    "    canvas.get_tk_widget().grid(row=5, column = 2, rowspan = 6)\n",
    "    #the fancy buttons for graph\n",
    "    toolbar_frame = Frame(root)\n",
    "    #toolbar is placed in row right underneath graph \n",
    "    toolbar_frame.grid(row=15, column = 2, pady = 5)\n",
    "    toolbar = NavigationToolbar2TkAgg( canvas, toolbar_frame )\n",
    "    canvas._tkcanvas.grid(row=5,column=2)\n",
    "    #functionality for buttons \n",
    "    canvas.mpl_connect('key_press_event', on_key_event)  \n",
    "\n",
    "#function imports the functionality for the toolbar buttons\n",
    "#home button returns the graph to its normal position after observation has been done on  it\n",
    "#the left and right buttons let you go back and forth between previous views\n",
    "#the axis buttons let you scroll inwhich ever drection to see more of the graph\n",
    "#the rectangle button lets you zoom to a rectangle\n",
    "#the the second to last button lets you change the format of the graph to your liking\n",
    "#The last button lets you save the figure on your desktop\n",
    "def on_key_event(event):\n",
    "    key_press_handler(event, canvas, toolbar)"
   ]
  },
  {
   "cell_type": "code",
   "execution_count": null,
   "metadata": {
    "collapsed": true
   },
   "outputs": [],
   "source": [
    "#master function checks if all the fields are filled in. If not it shows an error message \n",
    "#displays the graph, and displays the solutions in the output text box\n",
    "#function is called when user clicks \"Find Insulation Thickness\" button\n",
    "#as long as all of the fields are filled in,application returns the inches of insulation and graph\n",
    "from tkinter import messagebox\n",
    "def masterFunction():\n",
    "    if(len(txtArea.get()) == 0 or len(txtYears.get()) == 0):#alert pops up if any of the required fields aren't filled in\n",
    "        messagebox.showinfo(\"Find Insulation Thickness\", \"Please fill in all fields.\")\n",
    "    else:           \n",
    "        AHDD,area,years,Rvalue = getInput()      #parameter values are stored in appropriate variables\n",
    "        eq = getEquation(AHDD,area,years,Rvalue) #net savings function is saved in variable eq \n",
    "        derivative = str(differentiate(eq))      #the deriative of the net savings function is saved in variable in derivative\n",
    "        deq = derivative.replace(\"x\",\"t\")        #all x's are replaced with t's because graph() plots functions on a domain of t\n",
    "        graph(deq)                               #graph of derivative is shown in tkinter window\n",
    "        t = showSolutions(AHDD,area,years,Rvalue)#solutions of the derivative of the net savings function are found\n",
    "        editArea.insert(tk.INSERT, t)            #solutions are displayed in solution textbox"
   ]
  },
  {
   "cell_type": "markdown",
   "metadata": {},
   "source": [
    "### This is the main program that creates a graphical user interface to capture user input to calculate net savings"
   ]
  },
  {
   "cell_type": "code",
   "execution_count": null,
   "metadata": {
    "collapsed": false
   },
   "outputs": [],
   "source": [
    "#Reference: http://stackoverflow.com/questions/34108841/creating-a-simple-gui-program-using-tkinter-in-python\n",
    "#all the necesary modules are imported from tkinter\n",
    "from tkinter import Tk, Label, Entry, StringVar\n",
    "from tkinter import *\n",
    "import tkinter.scrolledtext as tkst\n",
    "from PIL import Image, ImageTk\n",
    "#because we don't know which version of tkinter works we try one and if it doesn't work we try the other\n",
    "try:\n",
    "    # for Python2\n",
    "    import Tkinter as tk\n",
    "except ImportError:\n",
    "    # for Python3\n",
    "    import tkinter as tk\n",
    "    \n",
    "#root for the tkinter window\n",
    "root = Toplevel() #Reference: http://stackoverflow.com/questions/20251161/tkinter-tclerror-image-pyimage3-doesnt-exist\n",
    "\n",
    "#title is defined\n",
    "root.title(\"Insulation Calculator for Home Attic\")\n",
    "\n",
    "instructionText=StringVar()\n",
    "instructionText.set('This program determines the number of inches \\n \\\n",
    "                     of insulation the user should add to his or her attic \\n \\\n",
    "                    in order to optimize the heating and cooling loss.')\n",
    "                     \n",
    "instructionDir=Label(root, textvariable=instructionText, height=4, font=(\"Helvetica 10 bold\"))\n",
    "instructionDir.grid(row=0,column=1,sticky=E, columnspan = 1)\n",
    "\n",
    "image = Image.open(\"equation.png\")\n",
    "photo = ImageTk.PhotoImage(image)\n",
    "label = tk.Label(root, image=photo)\n",
    "label.image = photo\n",
    "label.grid(row=1, column=1, sticky=E ,columnspan = 1)\n",
    "\n",
    "image2 = Image.open(\"attic1.png\")\n",
    "photo2 = ImageTk.PhotoImage(image2)\n",
    "label2 = tk.Label(root, image=photo2)\n",
    "label2.image = photo2\n",
    "label2.grid(row=0, column=2, rowspan = 4)\n",
    "\n",
    "#text label for text box is defined\n",
    "areaText=StringVar()\n",
    "areaText.set(\"Area (sqft)\")\n",
    "areaDir=Label(root, textvariable=areaText, height=1, font=(\"Helvetica 10 bold\"))\n",
    "areaDir.grid(row=2,column=0,sticky=E, padx = 10)\n",
    "\n",
    "#text box is created\n",
    "txtArea=StringVar(None)\n",
    "areaName=Entry(root,textvariable=txtArea,width=50)\n",
    "areaName.grid(row=2,column=1)\n",
    "\n",
    "#label for text box is created\n",
    "yearsText=StringVar()\n",
    "yearsText.set(\"Years\")\n",
    "yearsDir=Label(root, textvariable=yearsText, height=1, font=(\"Helvetica 10 bold\"))             \n",
    "yearsDir.grid(row=3,column=0,sticky=E, padx = 10)\n",
    "\n",
    "#text box is created \n",
    "txtYears=StringVar(None)\n",
    "yearsName=Entry(root,textvariable=txtYears,width=50)\n",
    "yearsName.grid(row=3,column=1)\n",
    "\n",
    "#Reference city AHDD values: #http://www.cpc.ncep.noaa.gov/products/analysis_monitoring/cdus/degree_days/wctyhddy.txt\n",
    "cityText=StringVar()\n",
    "cityText.set(\"City\")\n",
    "cityDir=Label(root, textvariable=cityText, height=1, font=(\"Helvetica 10 bold\"))\n",
    "cityDir.grid(row=4,column=0,sticky=E, padx = 10)\n",
    "#dropdown box is created for the cities\n",
    "cityDropTop = StringVar(root)\n",
    "#default value is set for Chicago\n",
    "cityDropTop.set('Chicago')\n",
    "cityChoices = {'Chicago':4706,\n",
    "           'Moline':4566,\n",
    "           'Peoria':4296,\n",
    "           'Quincy':4018,\n",
    "           'Rockford':4874,\n",
    "           'Springfield':3850, \n",
    "           'Palatine':7834}\n",
    "cityOptions = OptionMenu(root, cityDropTop, *cityChoices)\n",
    "cityOptions.grid(row=4,column=1,sticky=E, padx=10)\n",
    "\n",
    "#Reference Material R-values: https://www.thermaxxjackets.com/5-most-common-thermal-insulation-materials/\n",
    "materialText=StringVar()\n",
    "materialText.set(\"Material\")\n",
    "materialDir=Label(root, textvariable=materialText, height=1, font=(\"Helvetica 10 bold\"))\n",
    "materialDir.grid(row=5,column=0,sticky=E, padx = 10)\n",
    "#dropdown box for the insulation materials\n",
    "materialDropTop = StringVar(root)\n",
    "#default is set as fiberglass\n",
    "materialDropTop.set('Fiberglass')\n",
    "materialChoices = {'Fiberglass':3.1,\n",
    "           'Mineral Wool':3.1,\n",
    "           'Cellulose':3.7,\n",
    "           'Polyurethane Foam':6.3,\n",
    "           'Polystyrene ':4,}\n",
    "materialOptions = OptionMenu(root, materialDropTop, *materialChoices)\n",
    "materialOptions.grid(row=5,column=1, sticky = E, padx=10)\n",
    "\n",
    "#button to find insulation thickness\n",
    "b1 = Button(root, text='Find Optimal Insulation Thickness',command=masterFunction)\n",
    "b1.grid(row=6,column=1 ,sticky=E, padx=10)\n",
    "\n",
    "solutionText=StringVar()\n",
    "solutionText.set(\"Solution\")\n",
    "solutionDir=Label(root, textvariable=solutionText, height=1, font=(\"Helvetica 10 bold\"))\n",
    "solutionDir.grid(row=10,column=0,sticky=E, padx = 10)\n",
    "\n",
    "#textbox for solution\n",
    "#Reference: http://effbot.org/tkinterbook/entry.htm\n",
    "frame1 = tk.Frame(\n",
    "    master = root,\n",
    ")\n",
    "\n",
    "frame1.grid(row = 10,column = 1)\n",
    "editArea = tkst.ScrolledText(\n",
    "    master = frame1,\n",
    "    wrap   = tk.WORD,\n",
    "    width  = 25,\n",
    "    height = 6\n",
    ")\n",
    "\n",
    "editArea.pack(padx=10, pady=10, fill=tk.BOTH, expand=True)\n",
    "\n",
    "#defines how large the window is when it first come out  \n",
    "root.geometry(\"%dx%d+%d+%d\" % (1000, 700, 350, 350))\n",
    "\n",
    "root.mainloop()"
   ]
  },
  {
   "cell_type": "code",
   "execution_count": null,
   "metadata": {
    "collapsed": true
   },
   "outputs": [],
   "source": []
  }
 ],
 "metadata": {
  "anaconda-cloud": {},
  "kernelspec": {
   "display_name": "Python [conda root]",
   "language": "python",
   "name": "conda-root-py"
  },
  "language_info": {
   "codemirror_mode": {
    "name": "ipython",
    "version": 3
   },
   "file_extension": ".py",
   "mimetype": "text/x-python",
   "name": "python",
   "nbconvert_exporter": "python",
   "pygments_lexer": "ipython3",
   "version": "3.5.2"
  }
 },
 "nbformat": 4,
 "nbformat_minor": 1
}
